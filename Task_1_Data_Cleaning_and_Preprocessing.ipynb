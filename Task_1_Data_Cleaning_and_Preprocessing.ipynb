{
  "nbformat": 4,
  "nbformat_minor": 0,
  "metadata": {
    "colab": {
      "provenance": []
    },
    "kernelspec": {
      "name": "python3",
      "display_name": "Python 3"
    },
    "language_info": {
      "name": "python"
    }
  },
  "cells": [
    {
      "cell_type": "markdown",
      "source": [
        "**Step 1: Import the libraries**"
      ],
      "metadata": {
        "id": "Vo-QhyV94ags"
      }
    },
    {
      "cell_type": "code",
      "source": [
        "import pandas as pd\n",
        "from datetime import datetime"
      ],
      "metadata": {
        "id": "wiaaGL5P4m91"
      },
      "execution_count": 1,
      "outputs": []
    },
    {
      "cell_type": "markdown",
      "source": [
        "**Step 2: Load dataset with Explicit Tab Separator**"
      ],
      "metadata": {
        "id": "poC5LE4I4vF4"
      }
    },
    {
      "cell_type": "code",
      "source": [
        "df = pd.read_csv(\"/content/cleaned_marketing_campaign.csv\", sep=\",\")"
      ],
      "metadata": {
        "id": "uowmaBvJ5n46"
      },
      "execution_count": 3,
      "outputs": []
    },
    {
      "cell_type": "markdown",
      "source": [
        "**Step 3: Normalize Column Names**"
      ],
      "metadata": {
        "id": "TM0Ddzsm6AdH"
      }
    },
    {
      "cell_type": "code",
      "source": [
        "df.columns = df.columns.str.strip().str.lower().str.replace(' ', '_')"
      ],
      "metadata": {
        "id": "TlI9pfhc6KKv"
      },
      "execution_count": 4,
      "outputs": []
    },
    {
      "cell_type": "markdown",
      "source": [
        "**Step 4: Initial Diagnostics**"
      ],
      "metadata": {
        "id": "tLQ684We6UYg"
      }
    },
    {
      "cell_type": "code",
      "source": [
        "initial_shape = df.shape\n",
        "missing_before = df.isnull().sum()\n",
        "duplicates_before = df.duplicated().sum()"
      ],
      "metadata": {
        "id": "SbUw7Ctt6Thd"
      },
      "execution_count": 5,
      "outputs": []
    },
    {
      "cell_type": "markdown",
      "source": [
        "**Step 5: Convert dt_customer to datetime (day-first)**"
      ],
      "metadata": {
        "id": "PNbNtycN6v0M"
      }
    },
    {
      "cell_type": "code",
      "source": [
        "df['dt_customer'] = pd.to_datetime(df['dt_customer'], dayfirst=True, errors='coerce')"
      ],
      "metadata": {
        "id": "rhg2DeHo68JM"
      },
      "execution_count": 6,
      "outputs": []
    },
    {
      "cell_type": "markdown",
      "source": [
        "**Step 6: Compute age (prefer dt_customer year; fallback to 2025)**"
      ],
      "metadata": {
        "id": "WE5tSAug7H3k"
      }
    },
    {
      "cell_type": "code",
      "source": [
        "df['year_birth'] = pd.to_numeric(df['year_birth'], errors='coerce')\n",
        "def compute_age(row):\n",
        "    if pd.notnull(row['dt_customer']) and pd.notnull(row['year_birth']):\n",
        "        return row['dt_customer'].year - row['year_birth']\n",
        "    if pd.notnull(row['year_birth']):\n",
        "        return 2025 - row['year_birth']\n",
        "    return pd.NA\n",
        "df['age'] = df.apply(compute_age, axis=1).astype('Int64')"
      ],
      "metadata": {
        "id": "bjgq2h6B7TaM"
      },
      "execution_count": 8,
      "outputs": []
    },
    {
      "cell_type": "markdown",
      "source": [
        "**Step 7: Standardize Education**"
      ],
      "metadata": {
        "id": "aI71zQso8IJl"
      }
    },
    {
      "cell_type": "code",
      "source": [
        "edu_map = {\n",
        "    'basic': 'undergraduate',\n",
        "    '2n cycle': 'undergraduate',\n",
        "    'basic ': 'undergraduate',\n",
        "    'graduation': 'graduate',\n",
        "    'master': 'postgraduate',\n",
        "    'phd': 'postgraduate'\n",
        "}\n",
        "df['education'] = df['education'].astype(str).str.strip().str.lower().replace(edu_map)"
      ],
      "metadata": {
        "id": "nk_E06-x8Gp9"
      },
      "execution_count": 9,
      "outputs": []
    },
    {
      "cell_type": "markdown",
      "source": [
        "**Step 7: Standardize Marital Status**"
      ],
      "metadata": {
        "id": "AWsPrEA78-Ll"
      }
    },
    {
      "cell_type": "code",
      "source": [
        "marital_map = {\n",
        "    'married': 'partner',\n",
        "    'together': 'partner',\n",
        "    'divorced': 'single',\n",
        "    'single': 'single',\n",
        "    'widow': 'single',\n",
        "    'alone': 'single',\n",
        "    'absurd': 'other',\n",
        "    'yolo': 'other'\n",
        "}\n",
        "df['marital_status'] = df['marital_status'].astype(str).str.strip().str.lower().replace(marital_map)"
      ],
      "metadata": {
        "id": "mk6pN-M29J19"
      },
      "execution_count": 10,
      "outputs": []
    },
    {
      "cell_type": "markdown",
      "source": [
        "**Step 7: Combine Children**"
      ],
      "metadata": {
        "id": "97DdH_8E9VID"
      }
    },
    {
      "cell_type": "code",
      "source": [
        "df['children'] = df[['kidhome', 'teenhome']].sum(axis=1)"
      ],
      "metadata": {
        "id": "ay-Qv6dY9dN8"
      },
      "execution_count": 11,
      "outputs": []
    },
    {
      "cell_type": "markdown",
      "source": [
        "**Step 8: Total spent across product categories**"
      ],
      "metadata": {
        "id": "MlTH9YcC9l81"
      }
    },
    {
      "cell_type": "code",
      "source": [
        "spend_cols = [\n",
        "    'mnt_wines', 'mnt_fruits', 'mnt_meat_products',\n",
        "    'mnt_fish_products', 'mnt_sweet_products', 'mnt_gold_prods'\n",
        "]\n",
        "existing_spend_cols = [c for c in spend_cols if c in df.columns]\n",
        "df['total_spent'] = df[existing_spend_cols].sum(axis=1)"
      ],
      "metadata": {
        "id": "tLQd3-fM95is"
      },
      "execution_count": 12,
      "outputs": []
    },
    {
      "cell_type": "markdown",
      "source": [
        "**Step 9: Derive family feature**"
      ],
      "metadata": {
        "id": "sVhTf_OD-Gvc"
      }
    },
    {
      "cell_type": "code",
      "source": [
        "df['is_partner'] = df['marital_status'] == 'partner'\n",
        "df['family_size'] = df['is_partner'].astype(int) + df['children']"
      ],
      "metadata": {
        "id": "A2sw530s-VdM"
      },
      "execution_count": 13,
      "outputs": []
    },
    {
      "cell_type": "markdown",
      "source": [
        "**Step 10: Income imputation**"
      ],
      "metadata": {
        "id": "-g8qZDtE-cUE"
      }
    },
    {
      "cell_type": "code",
      "source": [
        "df['income'] = pd.to_numeric(df['income'], errors='coerce')\n",
        "income_missing_before = df['income'].isnull().sum()\n",
        "income_median = df['income'].median()\n",
        "df['income'] = df['income'].fillna(income_median)"
      ],
      "metadata": {
        "id": "XraP5JpK-lcc"
      },
      "execution_count": 14,
      "outputs": []
    },
    {
      "cell_type": "markdown",
      "source": [
        "**Step 11: Remove the duplicates**"
      ],
      "metadata": {
        "id": "ziCQLSOe-rEc"
      }
    },
    {
      "cell_type": "code",
      "source": [
        "df = df.drop_duplicates()"
      ],
      "metadata": {
        "id": "DWMx66We-0Pc"
      },
      "execution_count": 15,
      "outputs": []
    },
    {
      "cell_type": "markdown",
      "source": [
        "**Step 12: Ensure spend columns are integers**"
      ],
      "metadata": {
        "id": "IEQ1_Ti9-8Is"
      }
    },
    {
      "cell_type": "code",
      "source": [
        "for col in existing_spend_cols:\n",
        "    df[col] = pd.to_numeric(df[col], errors='coerce').fillna(0).astype(int)"
      ],
      "metadata": {
        "id": "EH5uOKbQ_DFu"
      },
      "execution_count": 16,
      "outputs": []
    },
    {
      "cell_type": "markdown",
      "source": [
        "**Step 11: Finalize the diagnostics**"
      ],
      "metadata": {
        "id": "XFbFgzDu_JLd"
      }
    },
    {
      "cell_type": "code",
      "source": [
        "final_shape = df.shape\n",
        "missing_after = df.isnull().sum()\n",
        "duplicates_after = df.duplicated().sum()"
      ],
      "metadata": {
        "id": "yE-bEN7z_X98"
      },
      "execution_count": 17,
      "outputs": []
    },
    {
      "cell_type": "markdown",
      "source": [
        "**Step 12: Save the cleaned dataset**"
      ],
      "metadata": {
        "id": "BEQGZaUT_daU"
      }
    },
    {
      "cell_type": "code",
      "source": [
        "df.to_csv(\"cleaned_marketing_campaign_full_cleaned.csv\", index=False)"
      ],
      "metadata": {
        "id": "1xcxVuN8_lfk"
      },
      "execution_count": 18,
      "outputs": []
    },
    {
      "cell_type": "markdown",
      "source": [
        "**Step 13: Print the Summary**"
      ],
      "metadata": {
        "id": "Ij84HytN_pw8"
      }
    },
    {
      "cell_type": "code",
      "source": [
        "print(\"Initial shape:\", initial_shape)\n",
        "print(\"Final shape:\", final_shape)\n",
        "print(\"Duplicates before:\", duplicates_before)\n",
        "print(\"Duplicates after:\", duplicates_after)\n",
        "print(\"Missing values before (sample):\", missing_before[missing_before > 0].to_dict())\n",
        "print(\"Missing values after (sample):\", missing_after[missing_after > 0].to_dict())\n",
        "print(f\"Income missing before imputation: {income_missing_before}, filled with median: {income_median}\")"
      ],
      "metadata": {
        "colab": {
          "base_uri": "https://localhost:8080/"
        },
        "id": "LU1CZlrt_xSV",
        "outputId": "f865af14-4881-4b94-9c5b-a6d92f0e1d75"
      },
      "execution_count": 19,
      "outputs": [
        {
          "output_type": "stream",
          "name": "stdout",
          "text": [
            "Initial shape: (2240, 34)\n",
            "Final shape: (2240, 34)\n",
            "Duplicates before: 0\n",
            "Duplicates after: 0\n",
            "Missing values before (sample): {}\n",
            "Missing values after (sample): {'dt_customer': 1324}\n",
            "Income missing before imputation: 0, filled with median: 51381.5\n"
          ]
        }
      ]
    }
  ]
}